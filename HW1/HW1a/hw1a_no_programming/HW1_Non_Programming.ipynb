{
 "cells": [
  {
   "cell_type": "markdown",
   "metadata": {},
   "source": [
    "<style  type=\"text/css\"> \n",
    "cool {\n",
    "  width: 100px;\n",
    "  height: 100px;\n",
    "  background-color: red;\n",
    "  position: relative;\n",
    "  -webkit-animation-name: example; /* Safari 4.0 - 8.0 */\n",
    "  -webkit-animation-duration: 4s; /* Safari 4.0 - 8.0 */\n",
    "  -webkit-animation-iteration-count: infinite; /* Safari 4.0 - 8.0 */\n",
    "  animation-name: example;\n",
    "  animation-duration: 4s;\n",
    "  animation-iteration-count: infinite;\n",
    "}\n",
    "\n",
    "/* Safari 4.0 - 8.0 */\n",
    "@-webkit-keyframes example {\n",
    "  0%   {background-color:red; left:0px; top:0px;}\n",
    "  25%  {background-color:yellow; left:200px; top:0px;}\n",
    "  50%  {background-color:blue; left:200px; top:200px;}\n",
    "  75%  {background-color:green; left:0px; top:200px;}\n",
    "  100% {background-color:red; left:0px; top:0px;}\n",
    "}\n",
    "\n",
    "/* Standard syntax */\n",
    "@keyframes example {\n",
    "  0%   {background-color:red; left:0px; top:0px;}\n",
    "  25%  {background-color:yellow; left:200px; top:0px;}\n",
    "  50%  {background-color:blue; left:200px; top:200px;}\n",
    "  75%  {background-color:green; left:0px; top:200px;}\n",
    "  100% {background-color:red; left:0px; top:0px;}\n",
    "}\n",
    "</style>\n",
    "\n",
    "<b><center>\n",
    "<span style=\"font-size: 24pt; line-height: 1.2\">\n",
    "COMS W4111: Introduction to Databases\n",
    "</span>\n",
    "</center></b>\n",
    "</span><br>\n",
    "<p>\n",
    "<i><center>\n",
    "<span style=\"font-size: 20pt; line-height: 1.2\">\n",
    "Homework 1A: Non-Programming Track Environment\n",
    "</span>\n",
    "</center></i>\n"
   ]
  },
  {
   "cell_type": "markdown",
   "metadata": {},
   "source": [
    "# Introduction\n",
    "\n",
    "Homework 1A tests environment setup. The total point value for HW1 is 10 points. Environment setup is necessary to complete HW1. Completing HW1A demonstrates that the environment setup is complete and correct. Details:\n",
    "1. HW1A is due on 18-Sept-2020 at 11:59 PM. __You may not use grace days.__<br><br>\n",
    "2. HW1A is worth 2.5 points out of the total 10 points for HW1.<br><br>\n",
    "3. You will need a working setup to complete HW1. If you do not submit HW1A, your maximum grade on the full HW1 is 7.5 points.\n",
    "\n"
   ]
  },
  {
   "cell_type": "markdown",
   "metadata": {},
   "source": [
    "# Anaconda\n",
    "\n",
    "\n",
    "- You must install Anaconda 3. There are [on-line instructions.](https://www.anaconda.com/distribution/)\n"
   ]
  },
  {
   "cell_type": "markdown",
   "metadata": {},
   "source": [
    "\n",
    "- Test correct version of Python by running the code below."
   ]
  },
  {
   "cell_type": "code",
   "execution_count": 7,
   "metadata": {},
   "outputs": [
    {
     "name": "stdout",
     "output_type": "stream",
     "text": [
      "Python version information: sys.version_info(major=3, minor=7, micro=4, releaselevel='final', serial=0) \n",
      "\n",
      "Your Python version is OK.\n"
     ]
    }
   ],
   "source": [
    "import sys\n",
    "\n",
    "print(\"Python version information:\", sys.version_info, \"\\n\")\n",
    "if sys.version_info.major != 3 or \\\n",
    "    ((sys.version_info.major == 3) and (sys.version_info.minor < 5)):\n",
    "    print(\"You have an invalid version of Python.\")\n",
    "else:\n",
    "    print(\"Your Python version is OK.\")\n",
    "    "
   ]
  },
  {
   "cell_type": "markdown",
   "metadata": {},
   "source": [
    "- Test the Python path"
   ]
  },
  {
   "cell_type": "code",
   "execution_count": 2,
   "metadata": {},
   "outputs": [
    {
     "name": "stdout",
     "output_type": "stream",
     "text": [
      "/Users/carriehaykellar/Downloads/hw1a_no_programming\n",
      "/opt/anaconda3/lib/python37.zip\n",
      "Found anaconda3\n",
      "Found some kind of Python.\n",
      "OK. Path is good.\n",
      "\n",
      "Passed all path tests.\n"
     ]
    }
   ],
   "source": [
    "python_found = False\n",
    "anaconda_found = False\n",
    "\n",
    "for p in sys.path:\n",
    "    print(p)\n",
    "    if \"anaconda3\" in p:\n",
    "        print(\"Found anaconda3\")\n",
    "        anaconda_found = True\n",
    "    if \"python\" in p:\n",
    "        print(\"Found some kind of Python.\")\n",
    "        if not anaconda_found:\n",
    "            print(\"Found some type of Python other than Anaconda.\")\n",
    "            print(\"Test fails\")\n",
    "        else:\n",
    "            print(\"OK. Path is good.\")\n",
    "            python_found = True\n",
    "        break\n",
    "    \n",
    "if python_found and anaconda_found:\n",
    "    print(\"\\nPassed all path tests.\")\n",
    "else:\n",
    "    print(\"\\nFailed path tests.\")\n",
    "    \n"
   ]
  },
  {
   "cell_type": "markdown",
   "metadata": {},
   "source": [
    "- Test Conda/Anaconda Version"
   ]
  },
  {
   "cell_type": "code",
   "execution_count": 3,
   "metadata": {},
   "outputs": [],
   "source": [
    "import conda"
   ]
  },
  {
   "cell_type": "code",
   "execution_count": 4,
   "metadata": {},
   "outputs": [
    {
     "name": "stdout",
     "output_type": "stream",
     "text": [
      "Your conda version info is\n",
      " sys.version_info(major=3, minor=7, micro=4, releaselevel='final', serial=0)\n",
      "Conda version information: sys.version_info(major=3, minor=7, micro=4, releaselevel='final', serial=0) \n",
      "\n",
      "Your Conda version is OK.\n"
     ]
    }
   ],
   "source": [
    "conda_version_info =  conda.sys.version_info\n",
    "print(\"Your conda version info is\\n\", conda_version_info)\n",
    "\n",
    "print(\"Conda version information:\", conda_version_info, \"\\n\")\n",
    "if conda_version_info.major != 3 or \\\n",
    "    ((conda_version_info.major == 3) and (conda_version_info.minor < 6)):\n",
    "    print(\"You have an invalid version of Conda.\")\n",
    "else:\n",
    "    print(\"Your Conda version is OK.\")"
   ]
  },
  {
   "cell_type": "markdown",
   "metadata": {},
   "source": [
    "- Test Pandas"
   ]
  },
  {
   "cell_type": "code",
   "execution_count": 5,
   "metadata": {},
   "outputs": [
    {
     "name": "stdout",
     "output_type": "stream",
     "text": [
      "Your pandas version is  0.25.1\n",
      "Your version is OK.\n"
     ]
    }
   ],
   "source": [
    "import pandas\n",
    "\n",
    "p_version = pandas.__version__\n",
    "p_nums = p_version.split(\".\")\n",
    "\n",
    "print(\"Your pandas version is \", p_version)\n",
    "if p_nums[1] != '25':\n",
    "    print(\"Your version is invalid.\")\n",
    "else:\n",
    "    print(\"Your version is OK.\")"
   ]
  },
  {
   "cell_type": "markdown",
   "metadata": {},
   "source": [
    "- The following fragment promps your for input. Please enter y or n."
   ]
  },
  {
   "cell_type": "code",
   "execution_count": 6,
   "metadata": {},
   "outputs": [
    {
     "name": "stdout",
     "output_type": "stream",
     "text": [
      "Professor Ferguson gave us code that accesses a module's property of the form __X__\n",
      "Answer y or n:y\n",
      "You failed the test. Prof. Ferguson is to good a programmer to ever do that.\n",
      "Reformatting harddrive as punishment.\n"
     ]
    }
   ],
   "source": [
    "print(\"Professor Ferguson gave us code that accesses a module's property of the form __X__\")\n",
    "ans = input(\"Answer y or n:\")\n",
    "\n",
    "if ans == 'y' or ans == 'Y':\n",
    "    print(\"You failed the test. Prof. Ferguson is to good a programmer to ever do that.\")\n",
    "    print(\"Reformatting harddrive as punishment.\")\n",
    "elif ans == 'n' or ans == 'N':\n",
    "    print(\"You passed the test.\")\n",
    "else:\n",
    "    print(\"Really. Answering y or n was too tricky?\")\n"
   ]
  },
  {
   "cell_type": "markdown",
   "metadata": {},
   "source": [
    "# ipython-sql\n",
    "\n",
    "- Run the following code cell. "
   ]
  },
  {
   "cell_type": "code",
   "execution_count": 1,
   "metadata": {},
   "outputs": [
    {
     "name": "stdout",
     "output_type": "stream",
     "text": [
      "Requirement already satisfied: ipython-sql in /opt/anaconda3/lib/python3.7/site-packages (0.4.0)\n",
      "Requirement already satisfied: ipython>=1.0 in /opt/anaconda3/lib/python3.7/site-packages (from ipython-sql) (7.8.0)\n",
      "Requirement already satisfied: sqlparse in /opt/anaconda3/lib/python3.7/site-packages (from ipython-sql) (0.3.0)\n",
      "Requirement already satisfied: ipython-genutils>=0.1.0 in /opt/anaconda3/lib/python3.7/site-packages (from ipython-sql) (0.2.0)\n",
      "Requirement already satisfied: six in /opt/anaconda3/lib/python3.7/site-packages (from ipython-sql) (1.12.0)\n",
      "Requirement already satisfied: sqlalchemy>=0.6.7 in /opt/anaconda3/lib/python3.7/site-packages (from ipython-sql) (1.3.9)\n",
      "Requirement already satisfied: prettytable<1 in /opt/anaconda3/lib/python3.7/site-packages (from ipython-sql) (0.7.2)\n",
      "Requirement already satisfied: setuptools>=18.5 in /opt/anaconda3/lib/python3.7/site-packages (from ipython>=1.0->ipython-sql) (41.4.0)\n",
      "Requirement already satisfied: jedi>=0.10 in /opt/anaconda3/lib/python3.7/site-packages (from ipython>=1.0->ipython-sql) (0.15.1)\n",
      "Requirement already satisfied: pygments in /opt/anaconda3/lib/python3.7/site-packages (from ipython>=1.0->ipython-sql) (2.4.2)\n",
      "Requirement already satisfied: prompt-toolkit<2.1.0,>=2.0.0 in /opt/anaconda3/lib/python3.7/site-packages (from ipython>=1.0->ipython-sql) (2.0.10)\n",
      "Requirement already satisfied: appnope; sys_platform == \"darwin\" in /opt/anaconda3/lib/python3.7/site-packages (from ipython>=1.0->ipython-sql) (0.1.0)\n",
      "Requirement already satisfied: pickleshare in /opt/anaconda3/lib/python3.7/site-packages (from ipython>=1.0->ipython-sql) (0.7.5)\n",
      "Requirement already satisfied: decorator in /opt/anaconda3/lib/python3.7/site-packages (from ipython>=1.0->ipython-sql) (4.4.0)\n",
      "Requirement already satisfied: traitlets>=4.2 in /opt/anaconda3/lib/python3.7/site-packages (from ipython>=1.0->ipython-sql) (4.3.3)\n",
      "Requirement already satisfied: pexpect; sys_platform != \"win32\" in /opt/anaconda3/lib/python3.7/site-packages (from ipython>=1.0->ipython-sql) (4.7.0)\n",
      "Requirement already satisfied: backcall in /opt/anaconda3/lib/python3.7/site-packages (from ipython>=1.0->ipython-sql) (0.1.0)\n",
      "Requirement already satisfied: parso>=0.5.0 in /opt/anaconda3/lib/python3.7/site-packages (from jedi>=0.10->ipython>=1.0->ipython-sql) (0.5.1)\n",
      "Requirement already satisfied: wcwidth in /opt/anaconda3/lib/python3.7/site-packages (from prompt-toolkit<2.1.0,>=2.0.0->ipython>=1.0->ipython-sql) (0.1.7)\n",
      "Requirement already satisfied: ptyprocess>=0.5 in /opt/anaconda3/lib/python3.7/site-packages (from pexpect; sys_platform != \"win32\"->ipython>=1.0->ipython-sql) (0.6.0)\n"
     ]
    }
   ],
   "source": [
    "!pip install ipython-sql"
   ]
  },
  {
   "cell_type": "markdown",
   "metadata": {},
   "source": [
    "- If you got errors, please follow the [instructions in the ipython-sql site](https://github.com/catherinedevlin/ipython-sql) to install the magic.\n",
    "\n",
    "\n",
    "- __NOTE:__ Running the cell above may produce multiple notifications about installing requirements or requirement already satisfied. That is normal.\n",
    "\n",
    "\n",
    "\n",
    "- Once you get the install to work without errors, run the following cell."
   ]
  },
  {
   "cell_type": "code",
   "execution_count": 10,
   "metadata": {},
   "outputs": [],
   "source": [
    "%load_ext sql"
   ]
  },
  {
   "cell_type": "markdown",
   "metadata": {},
   "source": [
    "- If you did not get an error response, your test passed.\n",
    "\n",
    "\n",
    "- If you run the cell twice, your answer should be:\n",
    "\n",
    "```\n",
    "The sql extension is already loaded. To reload it, use:\n",
    "  %reload_ext sql\n",
    "```"
   ]
  },
  {
   "cell_type": "markdown",
   "metadata": {},
   "source": [
    "- If you got the expected answer, your test passed."
   ]
  },
  {
   "cell_type": "markdown",
   "metadata": {},
   "source": [
    "# SQLite\n",
    "\n",
    "- Run the following cell."
   ]
  },
  {
   "cell_type": "code",
   "execution_count": 11,
   "metadata": {},
   "outputs": [],
   "source": [
    "%sql sqlite:///countries.db"
   ]
  },
  {
   "cell_type": "markdown",
   "metadata": {},
   "source": [
    "- Your answer should be something like ...\n",
    "\n",
    "```'Connected: @country.db'```"
   ]
  },
  {
   "cell_type": "markdown",
   "metadata": {},
   "source": [
    "- Run the following cell."
   ]
  },
  {
   "cell_type": "code",
   "execution_count": 12,
   "metadata": {},
   "outputs": [
    {
     "data": {
      "text/html": [
       "<div>\n",
       "<style scoped>\n",
       "    .dataframe tbody tr th:only-of-type {\n",
       "        vertical-align: middle;\n",
       "    }\n",
       "\n",
       "    .dataframe tbody tr th {\n",
       "        vertical-align: top;\n",
       "    }\n",
       "\n",
       "    .dataframe thead th {\n",
       "        text-align: right;\n",
       "    }\n",
       "</style>\n",
       "<table border=\"1\" class=\"dataframe\">\n",
       "  <thead>\n",
       "    <tr style=\"text-align: right;\">\n",
       "      <th></th>\n",
       "      <th>Country</th>\n",
       "      <th>Region</th>\n",
       "    </tr>\n",
       "  </thead>\n",
       "  <tbody>\n",
       "    <tr>\n",
       "      <td>0</td>\n",
       "      <td>Algeria</td>\n",
       "      <td>AFRICA</td>\n",
       "    </tr>\n",
       "    <tr>\n",
       "      <td>1</td>\n",
       "      <td>Angola</td>\n",
       "      <td>AFRICA</td>\n",
       "    </tr>\n",
       "    <tr>\n",
       "      <td>2</td>\n",
       "      <td>Benin</td>\n",
       "      <td>AFRICA</td>\n",
       "    </tr>\n",
       "    <tr>\n",
       "      <td>3</td>\n",
       "      <td>Botswana</td>\n",
       "      <td>AFRICA</td>\n",
       "    </tr>\n",
       "    <tr>\n",
       "      <td>4</td>\n",
       "      <td>Burkina</td>\n",
       "      <td>AFRICA</td>\n",
       "    </tr>\n",
       "    <tr>\n",
       "      <td>...</td>\n",
       "      <td>...</td>\n",
       "      <td>...</td>\n",
       "    </tr>\n",
       "    <tr>\n",
       "      <td>189</td>\n",
       "      <td>Paraguay</td>\n",
       "      <td>SOUTH AMERICA</td>\n",
       "    </tr>\n",
       "    <tr>\n",
       "      <td>190</td>\n",
       "      <td>Peru</td>\n",
       "      <td>SOUTH AMERICA</td>\n",
       "    </tr>\n",
       "    <tr>\n",
       "      <td>191</td>\n",
       "      <td>Suriname</td>\n",
       "      <td>SOUTH AMERICA</td>\n",
       "    </tr>\n",
       "    <tr>\n",
       "      <td>192</td>\n",
       "      <td>Uruguay</td>\n",
       "      <td>SOUTH AMERICA</td>\n",
       "    </tr>\n",
       "    <tr>\n",
       "      <td>193</td>\n",
       "      <td>Venezuela</td>\n",
       "      <td>SOUTH AMERICA</td>\n",
       "    </tr>\n",
       "  </tbody>\n",
       "</table>\n",
       "<p>194 rows × 2 columns</p>\n",
       "</div>"
      ],
      "text/plain": [
       "       Country         Region\n",
       "0      Algeria         AFRICA\n",
       "1       Angola         AFRICA\n",
       "2        Benin         AFRICA\n",
       "3     Botswana         AFRICA\n",
       "4      Burkina         AFRICA\n",
       "..         ...            ...\n",
       "189   Paraguay  SOUTH AMERICA\n",
       "190       Peru  SOUTH AMERICA\n",
       "191   Suriname  SOUTH AMERICA\n",
       "192    Uruguay  SOUTH AMERICA\n",
       "193  Venezuela  SOUTH AMERICA\n",
       "\n",
       "[194 rows x 2 columns]"
      ]
     },
     "execution_count": 12,
     "metadata": {},
     "output_type": "execute_result"
    }
   ],
   "source": [
    "import pandas as pd\n",
    "\n",
    "url=\"https://raw.githubusercontent.com/cs109/2014_data/master/countries.csv\"\n",
    "countries=pd.read_csv(url)\n",
    "countries"
   ]
  },
  {
   "cell_type": "markdown",
   "metadata": {},
   "source": [
    "- The result will be formatted but should contain data like ...\n",
    "\n",
    "```\n",
    "    Country\tRegion\n",
    "0\tAlgeria\tAFRICA\n",
    "1\tAngola\tAFRICA\n",
    "2\tBenin\tAFRICA\n",
    "3\tBotswana\tAFRICA\n",
    "4\tBurkina\tAFRICA\n",
    "...\t...\t...\n",
    "189\tParaguay\tSOUTH AMERICA\n",
    "190\tPeru\tSOUTH AMERICA\n",
    "191\tSuriname\tSOUTH AMERICA\n",
    "192\tUruguay\tSOUTH AMERICA\n",
    "193\tVenezuela\tSOUTH AMERICA\n",
    "```"
   ]
  },
  {
   "cell_type": "markdown",
   "metadata": {},
   "source": [
    "- Run the following cell."
   ]
  },
  {
   "cell_type": "code",
   "execution_count": 13,
   "metadata": {},
   "outputs": [
    {
     "data": {
      "text/plain": [
       "<sqlite3.Connection at 0x7f9ee498ed50>"
      ]
     },
     "execution_count": 13,
     "metadata": {},
     "output_type": "execute_result"
    }
   ],
   "source": [
    "import sqlite3\n",
    "conn = sqlite3.connect(\"countries.db\")\n",
    "conn"
   ]
  },
  {
   "cell_type": "markdown",
   "metadata": {},
   "source": [
    "- Your answer should be something like ...\n",
    "\n",
    "```\n",
    "<sqlite3.Connection at 0x7f9ee498ed50>\n",
    "```\n",
    "\n",
    "- The hexadecimal number will be different."
   ]
  },
  {
   "cell_type": "markdown",
   "metadata": {},
   "source": [
    "- Run the following cell ..."
   ]
  },
  {
   "cell_type": "code",
   "execution_count": 14,
   "metadata": {},
   "outputs": [
    {
     "name": "stdout",
     "output_type": "stream",
     "text": [
      " * sqlite:///countries.db\n",
      "Done.\n",
      "Done.\n"
     ]
    },
    {
     "data": {
      "text/plain": [
       "[]"
      ]
     },
     "execution_count": 14,
     "metadata": {},
     "output_type": "execute_result"
    }
   ],
   "source": [
    "%%sql\n",
    "DROP TABLE IF EXISTS countries;\n",
    "\n",
    "CREATE TABLE countries (\n",
    "    id INTEGER PRIMARY KEY,\n",
    "    name varchar(32) NOT NULL,\n",
    "    region varchar(32) NOT NULL\n",
    ");"
   ]
  },
  {
   "cell_type": "markdown",
   "metadata": {},
   "source": [
    "- Your answer should look something like ...\n",
    "\n",
    "```\n",
    "* sqlite:///countries.db\n",
    "Done.\n",
    "Done.\n",
    "```"
   ]
  },
  {
   "cell_type": "code",
   "execution_count": 15,
   "metadata": {},
   "outputs": [
    {
     "name": "stdout",
     "output_type": "stream",
     "text": [
      " * sqlite:///countries.db\n",
      "Done.\n"
     ]
    },
    {
     "data": {
      "text/html": [
       "<table>\n",
       "    <tr>\n",
       "        <th>id</th>\n",
       "        <th>name</th>\n",
       "        <th>region</th>\n",
       "    </tr>\n",
       "</table>"
      ],
      "text/plain": [
       "[]"
      ]
     },
     "execution_count": 15,
     "metadata": {},
     "output_type": "execute_result"
    }
   ],
   "source": [
    "%sql select * from countries;"
   ]
  },
  {
   "cell_type": "markdown",
   "metadata": {},
   "source": [
    "- Your answer should look like an empty table, i,e, just columns.\n",
    "\n",
    "\n",
    "- Now we will add some data."
   ]
  },
  {
   "cell_type": "code",
   "execution_count": 16,
   "metadata": {},
   "outputs": [
    {
     "data": {
      "text/html": [
       "<div>\n",
       "<style scoped>\n",
       "    .dataframe tbody tr th:only-of-type {\n",
       "        vertical-align: middle;\n",
       "    }\n",
       "\n",
       "    .dataframe tbody tr th {\n",
       "        vertical-align: top;\n",
       "    }\n",
       "\n",
       "    .dataframe thead th {\n",
       "        text-align: right;\n",
       "    }\n",
       "</style>\n",
       "<table border=\"1\" class=\"dataframe\">\n",
       "  <thead>\n",
       "    <tr style=\"text-align: right;\">\n",
       "      <th></th>\n",
       "      <th>name</th>\n",
       "      <th>region</th>\n",
       "    </tr>\n",
       "  </thead>\n",
       "  <tbody>\n",
       "    <tr>\n",
       "      <td>0</td>\n",
       "      <td>Algeria</td>\n",
       "      <td>AFRICA</td>\n",
       "    </tr>\n",
       "    <tr>\n",
       "      <td>1</td>\n",
       "      <td>Angola</td>\n",
       "      <td>AFRICA</td>\n",
       "    </tr>\n",
       "    <tr>\n",
       "      <td>2</td>\n",
       "      <td>Benin</td>\n",
       "      <td>AFRICA</td>\n",
       "    </tr>\n",
       "    <tr>\n",
       "      <td>3</td>\n",
       "      <td>Botswana</td>\n",
       "      <td>AFRICA</td>\n",
       "    </tr>\n",
       "    <tr>\n",
       "      <td>4</td>\n",
       "      <td>Burkina</td>\n",
       "      <td>AFRICA</td>\n",
       "    </tr>\n",
       "    <tr>\n",
       "      <td>...</td>\n",
       "      <td>...</td>\n",
       "      <td>...</td>\n",
       "    </tr>\n",
       "    <tr>\n",
       "      <td>189</td>\n",
       "      <td>Paraguay</td>\n",
       "      <td>SOUTH AMERICA</td>\n",
       "    </tr>\n",
       "    <tr>\n",
       "      <td>190</td>\n",
       "      <td>Peru</td>\n",
       "      <td>SOUTH AMERICA</td>\n",
       "    </tr>\n",
       "    <tr>\n",
       "      <td>191</td>\n",
       "      <td>Suriname</td>\n",
       "      <td>SOUTH AMERICA</td>\n",
       "    </tr>\n",
       "    <tr>\n",
       "      <td>192</td>\n",
       "      <td>Uruguay</td>\n",
       "      <td>SOUTH AMERICA</td>\n",
       "    </tr>\n",
       "    <tr>\n",
       "      <td>193</td>\n",
       "      <td>Venezuela</td>\n",
       "      <td>SOUTH AMERICA</td>\n",
       "    </tr>\n",
       "  </tbody>\n",
       "</table>\n",
       "<p>194 rows × 2 columns</p>\n",
       "</div>"
      ],
      "text/plain": [
       "          name         region\n",
       "0      Algeria         AFRICA\n",
       "1       Angola         AFRICA\n",
       "2        Benin         AFRICA\n",
       "3     Botswana         AFRICA\n",
       "4      Burkina         AFRICA\n",
       "..         ...            ...\n",
       "189   Paraguay  SOUTH AMERICA\n",
       "190       Peru  SOUTH AMERICA\n",
       "191   Suriname  SOUTH AMERICA\n",
       "192    Uruguay  SOUTH AMERICA\n",
       "193  Venezuela  SOUTH AMERICA\n",
       "\n",
       "[194 rows x 2 columns]"
      ]
     },
     "execution_count": 16,
     "metadata": {},
     "output_type": "execute_result"
    }
   ],
   "source": [
    "countries.rename(columns={\"Country\": \"name\", \"Region\": \"region\"}, inplace=True)\n",
    "countries"
   ]
  },
  {
   "cell_type": "markdown",
   "metadata": {},
   "source": [
    "- This will be the same data frame as before, but with the columns renamed."
   ]
  },
  {
   "cell_type": "code",
   "execution_count": 17,
   "metadata": {},
   "outputs": [],
   "source": [
    "countries.to_sql(name='countries', con=conn, if_exists='append', index_label='id')"
   ]
  },
  {
   "cell_type": "markdown",
   "metadata": {},
   "source": [
    "- The statement worked if you did not get an error."
   ]
  },
  {
   "cell_type": "code",
   "execution_count": 18,
   "metadata": {},
   "outputs": [
    {
     "name": "stdout",
     "output_type": "stream",
     "text": [
      " * sqlite:///countries.db\n",
      "Done.\n"
     ]
    },
    {
     "data": {
      "text/html": [
       "<table>\n",
       "    <tr>\n",
       "        <th>id</th>\n",
       "        <th>name</th>\n",
       "        <th>region</th>\n",
       "    </tr>\n",
       "    <tr>\n",
       "        <td>0</td>\n",
       "        <td>Algeria</td>\n",
       "        <td>AFRICA</td>\n",
       "    </tr>\n",
       "    <tr>\n",
       "        <td>1</td>\n",
       "        <td>Angola</td>\n",
       "        <td>AFRICA</td>\n",
       "    </tr>\n",
       "    <tr>\n",
       "        <td>2</td>\n",
       "        <td>Benin</td>\n",
       "        <td>AFRICA</td>\n",
       "    </tr>\n",
       "    <tr>\n",
       "        <td>3</td>\n",
       "        <td>Botswana</td>\n",
       "        <td>AFRICA</td>\n",
       "    </tr>\n",
       "    <tr>\n",
       "        <td>4</td>\n",
       "        <td>Burkina</td>\n",
       "        <td>AFRICA</td>\n",
       "    </tr>\n",
       "    <tr>\n",
       "        <td>5</td>\n",
       "        <td>Burundi</td>\n",
       "        <td>AFRICA</td>\n",
       "    </tr>\n",
       "    <tr>\n",
       "        <td>6</td>\n",
       "        <td>Cameroon</td>\n",
       "        <td>AFRICA</td>\n",
       "    </tr>\n",
       "    <tr>\n",
       "        <td>7</td>\n",
       "        <td>Cape Verde</td>\n",
       "        <td>AFRICA</td>\n",
       "    </tr>\n",
       "    <tr>\n",
       "        <td>8</td>\n",
       "        <td>Central African Republic</td>\n",
       "        <td>AFRICA</td>\n",
       "    </tr>\n",
       "    <tr>\n",
       "        <td>9</td>\n",
       "        <td>Chad</td>\n",
       "        <td>AFRICA</td>\n",
       "    </tr>\n",
       "</table>"
      ],
      "text/plain": [
       "[(0, 'Algeria', 'AFRICA'),\n",
       " (1, 'Angola', 'AFRICA'),\n",
       " (2, 'Benin', 'AFRICA'),\n",
       " (3, 'Botswana', 'AFRICA'),\n",
       " (4, 'Burkina', 'AFRICA'),\n",
       " (5, 'Burundi', 'AFRICA'),\n",
       " (6, 'Cameroon', 'AFRICA'),\n",
       " (7, 'Cape Verde', 'AFRICA'),\n",
       " (8, 'Central African Republic', 'AFRICA'),\n",
       " (9, 'Chad', 'AFRICA')]"
      ]
     },
     "execution_count": 18,
     "metadata": {},
     "output_type": "execute_result"
    }
   ],
   "source": [
    "%sql select * from countries limit 10;"
   ]
  },
  {
   "cell_type": "markdown",
   "metadata": {},
   "source": [
    "- Your answer should display the data ...\n",
    "\n",
    "```\n",
    "id\tname\tregion\n",
    "0\tAlgeria\tAFRICA\n",
    "1\tAngola\tAFRICA\n",
    "2\tBenin\tAFRICA\n",
    "3\tBotswana\tAFRICA\n",
    "4\tBurkina\tAFRICA\n",
    "5\tBurundi\tAFRICA\n",
    "6\tCameroon\tAFRICA\n",
    "7\tCape Verde\tAFRICA\n",
    "8\tCentral African Republic\tAFRICA\n",
    "9\tChad\tAFRICA\n",
    "\n",
    "```"
   ]
  },
  {
   "cell_type": "markdown",
   "metadata": {},
   "source": [
    "- Some simple SQL Examples"
   ]
  },
  {
   "cell_type": "code",
   "execution_count": 19,
   "metadata": {},
   "outputs": [
    {
     "name": "stdout",
     "output_type": "stream",
     "text": [
      " * sqlite:///countries.db\n",
      "Done.\n"
     ]
    },
    {
     "data": {
      "text/html": [
       "<table>\n",
       "    <tr>\n",
       "        <th>region</th>\n",
       "    </tr>\n",
       "    <tr>\n",
       "        <td>AFRICA</td>\n",
       "    </tr>\n",
       "    <tr>\n",
       "        <td>ASIA</td>\n",
       "    </tr>\n",
       "    <tr>\n",
       "        <td>EUROPE</td>\n",
       "    </tr>\n",
       "    <tr>\n",
       "        <td>NORTH AMERICA</td>\n",
       "    </tr>\n",
       "    <tr>\n",
       "        <td>OCEANIA</td>\n",
       "    </tr>\n",
       "    <tr>\n",
       "        <td>SOUTH AMERICA</td>\n",
       "    </tr>\n",
       "</table>"
      ],
      "text/plain": [
       "[('AFRICA',),\n",
       " ('ASIA',),\n",
       " ('EUROPE',),\n",
       " ('NORTH AMERICA',),\n",
       " ('OCEANIA',),\n",
       " ('SOUTH AMERICA',)]"
      ]
     },
     "execution_count": 19,
     "metadata": {},
     "output_type": "execute_result"
    }
   ],
   "source": [
    "# The distinct regions\n",
    "%sql select distinct region from countries;"
   ]
  },
  {
   "cell_type": "code",
   "execution_count": 20,
   "metadata": {},
   "outputs": [
    {
     "name": "stdout",
     "output_type": "stream",
     "text": [
      " * sqlite:///countries.db\n",
      "Done.\n"
     ]
    },
    {
     "data": {
      "text/html": [
       "<table>\n",
       "    <tr>\n",
       "        <th>region</th>\n",
       "        <th>no_of_countries</th>\n",
       "    </tr>\n",
       "    <tr>\n",
       "        <td>AFRICA</td>\n",
       "        <td>54</td>\n",
       "    </tr>\n",
       "    <tr>\n",
       "        <td>ASIA</td>\n",
       "        <td>44</td>\n",
       "    </tr>\n",
       "    <tr>\n",
       "        <td>EUROPE</td>\n",
       "        <td>47</td>\n",
       "    </tr>\n",
       "    <tr>\n",
       "        <td>NORTH AMERICA</td>\n",
       "        <td>23</td>\n",
       "    </tr>\n",
       "    <tr>\n",
       "        <td>OCEANIA</td>\n",
       "        <td>14</td>\n",
       "    </tr>\n",
       "    <tr>\n",
       "        <td>SOUTH AMERICA</td>\n",
       "        <td>12</td>\n",
       "    </tr>\n",
       "</table>"
      ],
      "text/plain": [
       "[('AFRICA', 54),\n",
       " ('ASIA', 44),\n",
       " ('EUROPE', 47),\n",
       " ('NORTH AMERICA', 23),\n",
       " ('OCEANIA', 14),\n",
       " ('SOUTH AMERICA', 12)]"
      ]
     },
     "execution_count": 20,
     "metadata": {},
     "output_type": "execute_result"
    }
   ],
   "source": [
    "# The number of countries in each region\n",
    "%sql select region, count(*) as no_of_countries from countries group by region;"
   ]
  },
  {
   "cell_type": "markdown",
   "metadata": {},
   "source": [
    "# Lucidchart\n",
    "\n",
    "- Sign-up for a trial account at https://www.lucidchart.com/pages/\n",
    "\n",
    "\n",
    "- Once you have signed up and logged-in\n",
    "    1. Create a new document.\n",
    "    2. Create a new document.\n",
    "    3. In the left side Shaped panel, click to add a new set of shapes.\n",
    "    4. Choose \"Entity Relationship\"\n",
    "    \n",
    "    \n",
    "- You should not see the shapes for[Crow's Foot Notatio](https://www.vertabelo.com/blog/crow-s-foot-notation/) ER Diagrams.\n",
    "\n",
    "\n",
    "- Draw the following diagram in Lucidchart using the ER shapes tool.\n",
    "\n",
    "<hr style=\"height:2px;\">\n",
    "<img src=\"./countries_schema.png\">\n",
    "<hr style=\"height:2px;\">\n",
    "\n",
    "\n",
    "- Use a screen capture tool to save the image to a file, and place in the HW1 folder.\n",
    "\n",
    "\n",
    "- Rename your file ```countries_schema.png```\n",
    "\n",
    "\n",
    "- Put the following in a markup cell and you should see your image.\n",
    "\n",
    "```\n",
    "<hr style=\"height:2px;\">\n",
    "<img src=\"./countries_schema.png\">\n",
    "<hr style=\"height:2px;\">\n",
    "```"
   ]
  },
  {
   "cell_type": "markdown",
   "metadata": {},
   "source": [
    "# Online Information Integration\n",
    "\n",
    "- Run the following cell."
   ]
  },
  {
   "cell_type": "code",
   "execution_count": 21,
   "metadata": {},
   "outputs": [],
   "source": [
    "import requests\n",
    "import json\n",
    "\n",
    "def get_country_info(c_name, fields=None):\n",
    "    \n",
    "    url = \"https://restcountries.eu/rest/v2/name/\" + c_name\n",
    "    \n",
    "    if fields is not None:\n",
    "        field_query=\";\".join(fields)\n",
    "        url += \"?fields=\" + field_query\n",
    "        \n",
    "    result = requests.get(url)\n",
    "    \n",
    "    if result.status_code != 200:\n",
    "        result = None\n",
    "    else:\n",
    "        result = result.json()\n",
    "        \n",
    "    return result\n",
    "        \n"
   ]
  },
  {
   "cell_type": "markdown",
   "metadata": {},
   "source": [
    "- If you did not get an error, it worked.\n",
    "\n",
    "\n",
    "- Run the cell below."
   ]
  },
  {
   "cell_type": "code",
   "execution_count": 22,
   "metadata": {},
   "outputs": [
    {
     "name": "stdout",
     "output_type": "stream",
     "text": [
      " * sqlite:///countries.db\n",
      "Done.\n"
     ]
    },
    {
     "data": {
      "text/plain": [
       "'United States'"
      ]
     },
     "execution_count": 22,
     "metadata": {},
     "output_type": "execute_result"
    }
   ],
   "source": [
    "result_set = %sql select name from countries where name=\"United States\";\n",
    "first_row = result_set[0]\n",
    "us_c_name = first_row[0]\n",
    "us_c_name"
   ]
  },
  {
   "cell_type": "markdown",
   "metadata": {},
   "source": [
    "- Your answer will be something like \n",
    "\n",
    "```\n",
    "* sqlite:///countries.db\n",
    "Done.\n",
    "\n",
    "'United States'\n",
    "\n",
    "```"
   ]
  },
  {
   "cell_type": "markdown",
   "metadata": {},
   "source": [
    "- Run the following cell ..."
   ]
  },
  {
   "cell_type": "code",
   "execution_count": 23,
   "metadata": {},
   "outputs": [
    {
     "data": {
      "text/plain": [
       "[{'name': 'United States Minor Outlying Islands',\n",
       "  'alpha2Code': 'UM',\n",
       "  'alpha3Code': 'UMI',\n",
       "  'callingCodes': [''],\n",
       "  'altSpellings': ['UM']},\n",
       " {'name': 'United States of America',\n",
       "  'alpha2Code': 'US',\n",
       "  'alpha3Code': 'USA',\n",
       "  'callingCodes': ['1'],\n",
       "  'altSpellings': ['US', 'USA', 'United States of America']}]"
      ]
     },
     "execution_count": 23,
     "metadata": {},
     "output_type": "execute_result"
    }
   ],
   "source": [
    "cinfo = get_country_info(us_c_name, fields=['name', 'alpha2Code', 'alpha3Code', 'callingCodes', 'altSpellings'])\n",
    "cinfo"
   ]
  },
  {
   "cell_type": "markdown",
   "metadata": {},
   "source": [
    "- Your answer will be something like ...\n",
    "\n",
    "```\n",
    "[{'name': 'United States Minor Outlying Islands',\n",
    "  'alpha2Code': 'UM',\n",
    "  'alpha3Code': 'UMI',\n",
    "  'callingCodes': [''],\n",
    "  'altSpellings': ['UM']},\n",
    " {'name': 'United States of America',\n",
    "  'alpha2Code': 'US',\n",
    "  'alpha3Code': 'USA',\n",
    "  'callingCodes': ['1'],\n",
    "  'altSpellings': ['US', 'USA', 'United States of America']}]\n",
    "\n",
    "```"
   ]
  },
  {
   "cell_type": "markdown",
   "metadata": {},
   "source": [
    "- Run the following cell ..."
   ]
  },
  {
   "cell_type": "code",
   "execution_count": 24,
   "metadata": {},
   "outputs": [
    {
     "name": "stdout",
     "output_type": "stream",
     "text": [
      " * sqlite:///countries.db\n",
      "Done.\n",
      "Done.\n"
     ]
    },
    {
     "data": {
      "text/plain": [
       "[]"
      ]
     },
     "execution_count": 24,
     "metadata": {},
     "output_type": "execute_result"
    }
   ],
   "source": [
    "%%sql\n",
    "\n",
    "drop table if exists country_standards;\n",
    "\n",
    "create table country_standards (\n",
    "    alpha2code char(2) primary key,\n",
    "    alpha3code char(3),\n",
    "    name varchar(256));"
   ]
  },
  {
   "cell_type": "markdown",
   "metadata": {},
   "source": [
    "- Your answer should be something like ...\n",
    "\n",
    "```\n",
    "* sqlite:///countries.db\n",
    "Done.\n",
    "Done.\n",
    "\n",
    "```"
   ]
  },
  {
   "cell_type": "markdown",
   "metadata": {},
   "source": [
    "- Run the following cell ..."
   ]
  },
  {
   "cell_type": "code",
   "execution_count": 25,
   "metadata": {},
   "outputs": [
    {
     "data": {
      "text/plain": [
       "<sqlite3.Connection at 0x7f9ee5222030>"
      ]
     },
     "execution_count": 25,
     "metadata": {},
     "output_type": "execute_result"
    }
   ],
   "source": [
    "def create_connection(db_file):\n",
    "    \"\"\" create a database connection to the SQLite database\n",
    "        specified by db_file\n",
    "    :param db_file: database file\n",
    "    :return: Connection object or None\n",
    "    \"\"\"\n",
    "    conn = None\n",
    "    try:\n",
    "        conn = sqlite3.connect(db_file)\n",
    "    except Error as e:\n",
    "        print(e)\n",
    " \n",
    "    return conn\n",
    "\n",
    "conn2 = create_connection('countries')\n",
    "conn2"
   ]
  },
  {
   "cell_type": "markdown",
   "metadata": {},
   "source": [
    "- Your answer should be something like ... (the hexadecimal value will be different).\n",
    "\n",
    "```\n",
    "<sqlite3.Connection at 0x7f9ee5222030>\n",
    "```"
   ]
  },
  {
   "cell_type": "markdown",
   "metadata": {},
   "source": [
    "- Run the following cell ... ..."
   ]
  },
  {
   "cell_type": "code",
   "execution_count": 26,
   "metadata": {},
   "outputs": [],
   "source": [
    "def add_country(c_data):\n",
    "    try:\n",
    "        sql_statement = \"\"\"INSERT INTO country_standards(alpha2code, alpha3code, name) \n",
    "            VALUES(?, ?, ?)\"\"\"\n",
    "        conn = create_connection('countries.db')\n",
    "        print(\"Conn = \", conn)\n",
    "        cur = conn.cursor()\n",
    "        result = cur.execute(sql_statement, c_data)\n",
    "    except Exception as e:\n",
    "        print(\"Exception e = \", e)\n",
    "        result = None\n",
    "\n",
    "    conn.commit()\n",
    "    conn.close()\n",
    "\n",
    "    return result\n",
    "\n",
    "def create_tables():\n",
    "\n",
    "    sql = []\n",
    "    sql.append(\"drop table if exists country_standards;\")\n",
    "    sql2 = \"\"\"create table country_standards(\n",
    "            alpha2code char(2) primary key,\n",
    "            alpha3code char(3),\n",
    "            name varchar(256));\n",
    "        \"\"\"\n",
    "    sql.append(sql2)\n",
    "\n",
    "    conn = create_connection(\"countries.db\")\n",
    "    cur = conn.cursor()\n",
    "\n",
    "    for s in sql:\n",
    "        res = cur.execute(s)\n",
    "\n",
    "    conn.commit()\n",
    "    conn.close()\n",
    "    \n",
    "    \n",
    "def t1():\n",
    "\n",
    "    create_tables()\n",
    "\n",
    "    c_info = get_country_info('United States', fields=['name', 'alpha2Code', 'alpha3Code',\n",
    "                                            'callingCodes', 'altSpellings'])\n",
    "    print(\"Result = \")\n",
    "    print(json.dumps(c_info, indent=2))\n",
    "\n",
    "    for c in c_info:\n",
    "        to_add = [c['alpha2Code'], c['alpha3Code'], c['name']]\n",
    "        res = add_country(to_add)\n",
    "        print(\"Add result = \", res)"
   ]
  },
  {
   "cell_type": "markdown",
   "metadata": {},
   "source": [
    "- If you do not get errors it worked ...\n",
    "\n",
    "\n",
    "- Run the following cell ..."
   ]
  },
  {
   "cell_type": "code",
   "execution_count": 27,
   "metadata": {},
   "outputs": [
    {
     "name": "stdout",
     "output_type": "stream",
     "text": [
      "Result = \n",
      "[\n",
      "  {\n",
      "    \"name\": \"United States Minor Outlying Islands\",\n",
      "    \"alpha2Code\": \"UM\",\n",
      "    \"alpha3Code\": \"UMI\",\n",
      "    \"callingCodes\": [\n",
      "      \"\"\n",
      "    ],\n",
      "    \"altSpellings\": [\n",
      "      \"UM\"\n",
      "    ]\n",
      "  },\n",
      "  {\n",
      "    \"name\": \"United States of America\",\n",
      "    \"alpha2Code\": \"US\",\n",
      "    \"alpha3Code\": \"USA\",\n",
      "    \"callingCodes\": [\n",
      "      \"1\"\n",
      "    ],\n",
      "    \"altSpellings\": [\n",
      "      \"US\",\n",
      "      \"USA\",\n",
      "      \"United States of America\"\n",
      "    ]\n",
      "  }\n",
      "]\n",
      "Conn =  <sqlite3.Connection object at 0x7f9ee51b7f10>\n",
      "Add result =  <sqlite3.Cursor object at 0x7f9ee51eb0a0>\n",
      "Conn =  <sqlite3.Connection object at 0x7f9ee52221f0>\n",
      "Add result =  <sqlite3.Cursor object at 0x7f9ee51ebe30>\n"
     ]
    }
   ],
   "source": [
    "t1()"
   ]
  },
  {
   "cell_type": "markdown",
   "metadata": {},
   "source": [
    "- Your answer should look something like ...\n",
    "\n",
    "```\n",
    "Result = \n",
    "[\n",
    "  {\n",
    "    \"name\": \"United States Minor Outlying Islands\",\n",
    "    \"alpha2Code\": \"UM\",\n",
    "    \"alpha3Code\": \"UMI\",\n",
    "    \"callingCodes\": [\n",
    "      \"\"\n",
    "    ],\n",
    "    \"altSpellings\": [\n",
    "      \"UM\"\n",
    "    ]\n",
    "  },\n",
    "  {\n",
    "    \"name\": \"United States of America\",\n",
    "    \"alpha2Code\": \"US\",\n",
    "    \"alpha3Code\": \"USA\",\n",
    "    \"callingCodes\": [\n",
    "      \"1\"\n",
    "    ],\n",
    "    \"altSpellings\": [\n",
    "      \"US\",\n",
    "      \"USA\",\n",
    "      \"United States of America\"\n",
    "    ]\n",
    "  }\n",
    "]\n",
    "Conn =  <sqlite3.Connection object at 0x7fb46164f110>\n",
    "Add result =  <sqlite3.Cursor object at 0x7fb471422880>\n",
    "Conn =  <sqlite3.Connection object at 0x7fb46164f3b0>\n",
    "Add result =  <sqlite3.Cursor object at 0x7fb4714229d0>\n",
    "\n",
    "```"
   ]
  },
  {
   "cell_type": "markdown",
   "metadata": {},
   "source": [
    "- Run the following cell ..."
   ]
  },
  {
   "cell_type": "code",
   "execution_count": 28,
   "metadata": {},
   "outputs": [
    {
     "name": "stdout",
     "output_type": "stream",
     "text": [
      " * sqlite:///countries.db\n",
      "Done.\n"
     ]
    },
    {
     "data": {
      "text/html": [
       "<table>\n",
       "    <tr>\n",
       "        <th>alpha2code</th>\n",
       "        <th>alpha3code</th>\n",
       "        <th>name</th>\n",
       "    </tr>\n",
       "    <tr>\n",
       "        <td>UM</td>\n",
       "        <td>UMI</td>\n",
       "        <td>United States Minor Outlying Islands</td>\n",
       "    </tr>\n",
       "    <tr>\n",
       "        <td>US</td>\n",
       "        <td>USA</td>\n",
       "        <td>United States of America</td>\n",
       "    </tr>\n",
       "</table>"
      ],
      "text/plain": [
       "[('UM', 'UMI', 'United States Minor Outlying Islands'),\n",
       " ('US', 'USA', 'United States of America')]"
      ]
     },
     "execution_count": 28,
     "metadata": {},
     "output_type": "execute_result"
    }
   ],
   "source": [
    "%sql select * from country_standards"
   ]
  },
  {
   "cell_type": "markdown",
   "metadata": {},
   "source": [
    "- The data from your answer should look like ...\n",
    "\n",
    "```\n",
    "alpha2code\talpha3code\tname\n",
    "UM\tUMI\tUnited States Minor Outlying Islands\n",
    "US\tUSA\tUnited States of America\n",
    "\n",
    "```"
   ]
  },
  {
   "cell_type": "markdown",
   "metadata": {},
   "source": [
    "# Just Some Fun"
   ]
  },
  {
   "cell_type": "markdown",
   "metadata": {},
   "source": [
    "- Just a couple more cells ...\n",
    "\n",
    "\n",
    "- What are the distinct regions?"
   ]
  },
  {
   "cell_type": "code",
   "execution_count": 29,
   "metadata": {},
   "outputs": [
    {
     "name": "stdout",
     "output_type": "stream",
     "text": [
      " * sqlite:///countries.db\n",
      "Done.\n"
     ]
    },
    {
     "data": {
      "text/html": [
       "<table>\n",
       "    <tr>\n",
       "        <th>region</th>\n",
       "    </tr>\n",
       "    <tr>\n",
       "        <td>AFRICA</td>\n",
       "    </tr>\n",
       "    <tr>\n",
       "        <td>ASIA</td>\n",
       "    </tr>\n",
       "    <tr>\n",
       "        <td>EUROPE</td>\n",
       "    </tr>\n",
       "    <tr>\n",
       "        <td>NORTH AMERICA</td>\n",
       "    </tr>\n",
       "    <tr>\n",
       "        <td>OCEANIA</td>\n",
       "    </tr>\n",
       "    <tr>\n",
       "        <td>SOUTH AMERICA</td>\n",
       "    </tr>\n",
       "</table>"
      ],
      "text/plain": [
       "[('AFRICA',),\n",
       " ('ASIA',),\n",
       " ('EUROPE',),\n",
       " ('NORTH AMERICA',),\n",
       " ('OCEANIA',),\n",
       " ('SOUTH AMERICA',)]"
      ]
     },
     "execution_count": 29,
     "metadata": {},
     "output_type": "execute_result"
    }
   ],
   "source": [
    "%sql select distinct region from countries;"
   ]
  },
  {
   "cell_type": "markdown",
   "metadata": {},
   "source": [
    "- How many countries are there in each regions?"
   ]
  },
  {
   "cell_type": "code",
   "execution_count": 30,
   "metadata": {},
   "outputs": [
    {
     "name": "stdout",
     "output_type": "stream",
     "text": [
      " * sqlite:///countries.db\n",
      "Done.\n"
     ]
    },
    {
     "data": {
      "text/html": [
       "<table>\n",
       "    <tr>\n",
       "        <th>region</th>\n",
       "        <th>no_of_countries</th>\n",
       "    </tr>\n",
       "    <tr>\n",
       "        <td>AFRICA</td>\n",
       "        <td>54</td>\n",
       "    </tr>\n",
       "    <tr>\n",
       "        <td>ASIA</td>\n",
       "        <td>44</td>\n",
       "    </tr>\n",
       "    <tr>\n",
       "        <td>EUROPE</td>\n",
       "        <td>47</td>\n",
       "    </tr>\n",
       "    <tr>\n",
       "        <td>NORTH AMERICA</td>\n",
       "        <td>23</td>\n",
       "    </tr>\n",
       "    <tr>\n",
       "        <td>OCEANIA</td>\n",
       "        <td>14</td>\n",
       "    </tr>\n",
       "    <tr>\n",
       "        <td>SOUTH AMERICA</td>\n",
       "        <td>12</td>\n",
       "    </tr>\n",
       "</table>"
      ],
      "text/plain": [
       "[('AFRICA', 54),\n",
       " ('ASIA', 44),\n",
       " ('EUROPE', 47),\n",
       " ('NORTH AMERICA', 23),\n",
       " ('OCEANIA', 14),\n",
       " ('SOUTH AMERICA', 12)]"
      ]
     },
     "execution_count": 30,
     "metadata": {},
     "output_type": "execute_result"
    }
   ],
   "source": [
    "%sql select region, count(*) as no_of_countries from countries group by region;"
   ]
  },
  {
   "cell_type": "markdown",
   "metadata": {},
   "source": [
    "# What the Heck Just Happened?\n",
    "\n",
    "<hr style=\"height:2px\">\n",
    "<img src=\"what_just_happened.png\">\n",
    "<hr style=\"height:2px\">"
   ]
  },
  {
   "cell_type": "code",
   "execution_count": null,
   "metadata": {},
   "outputs": [],
   "source": []
  }
 ],
 "metadata": {
  "kernelspec": {
   "display_name": "Python 3",
   "language": "python",
   "name": "python3"
  },
  "language_info": {
   "codemirror_mode": {
    "name": "ipython",
    "version": 3
   },
   "file_extension": ".py",
   "mimetype": "text/x-python",
   "name": "python",
   "nbconvert_exporter": "python",
   "pygments_lexer": "ipython3",
   "version": "3.7.4"
  },
  "toc": {
   "nav_menu": {},
   "number_sections": true,
   "sideBar": true,
   "skip_h1_title": false,
   "title_cell": "Table of Contents",
   "title_sidebar": "Contents",
   "toc_cell": false,
   "toc_position": {},
   "toc_section_display": true,
   "toc_window_display": false
  }
 },
 "nbformat": 4,
 "nbformat_minor": 2
}
